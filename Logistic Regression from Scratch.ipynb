{
 "cells": [
  {
   "cell_type": "markdown",
   "metadata": {},
   "source": [
    "# Logistic Regression from scratch"
   ]
  },
  {
   "cell_type": "code",
   "execution_count": 8,
   "metadata": {},
   "outputs": [],
   "source": [
    "import numpy as np\n",
    "import seaborn as sns\n",
    "sns.set_style(\"darkgrid\")\n",
    "\n",
    "class LogisticRegression:\n",
    "    def __init__(self, n_iter=50, eta=0.01, random_state=1):\n",
    "        self.n_iter=n_iter\n",
    "        self.eta=eta\n",
    "        self.random_state=random_state\n",
    "        \n",
    "    def fit(self, X, y):\n",
    "        rgen=np.random.RandomState(self.random_state)\n",
    "        self.w_=rgen.normal(loc=0.0, scale=0.01, size=1+X.shape[1])\n",
    "        self.cost_=[]\n",
    "        \n",
    "        for i in range(self.n_iter):\n",
    "            net_input=self.net_input(X)\n",
    "            output=self.activation(net_input)\n",
    "            errors=(y-output)\n",
    "            self.w_[1:]+=self.eta*X.T.dot(errors)\n",
    "            self.w_[0]+=self.eta*errors.sum()\n",
    "            \n",
    "            cost=(-y.dot(np.log(output))-(1-y).dot(np.log(1-output)))\n",
    "            self.cost_.append(cost)\n",
    "        return self\n",
    "    \n",
    "    def net_input(self, X):\n",
    "        return np.dot(X, self.w_[1:])+self.w_[0]\n",
    "    \n",
    "    def activation(self, z):\n",
    "        return 1/(1+np.exp(np.clip(z, -250, 250)))\n",
    "    \n",
    "    def predict(self, X):\n",
    "        return np.where(self.net_input(X)>=0, 1, 0)\n"
   ]
  },
  {
   "cell_type": "markdown",
   "metadata": {},
   "source": [
    "#### Importing our Datasets"
   ]
  },
  {
   "cell_type": "code",
   "execution_count": 9,
   "metadata": {},
   "outputs": [],
   "source": [
    "import numpy as np\n",
    "import matplotlib.pyplot as plt\n",
    "import pandas as pd\n",
    "import seaborn as sns\n",
    "\n",
    "from sklearn.datasets import load_iris\n",
    "iris_data=load_iris()       \n",
    "data=pd.DataFrame(iris_data.data)\n",
    "y=(iris_data.target)\n",
    "X=data.iloc[:, [2, 3]].values\n"
   ]
  },
  {
   "cell_type": "markdown",
   "metadata": {},
   "source": [
    "#### Plotting Decision Regions"
   ]
  },
  {
   "cell_type": "code",
   "execution_count": 16,
   "metadata": {},
   "outputs": [],
   "source": [
    "from matplotlib.colors import ListedColormap\n",
    "def plot_decision_regions(X, y, classifier, resolution=0.02):\n",
    "    \n",
    "    # setup marker and colormap\n",
    "    markers=[\"o\", \"x\", \"s\", \"p\", \"8\", \"d\"]\n",
    "    colors=[\"red\", \"blue\", \"green\", \"m\", \"cyan\"]\n",
    "    cmap=ListedColormap(colors[:len(np.unique(y))])\n",
    "    \n",
    "    # plot the decision surface\n",
    "    x1_min, x1_max=X[:, 0].min()-1, X[:, 0].max()+1\n",
    "    x2_min, x2_max=X[:, 1].min()-1, X[:, 1].max()+1\n",
    "    xx1, xx2=np.meshgrid(np.arange(x1_min,  x1_max, resolution), \n",
    "                         np.arange(x2_min, x2_max, resolution))\n",
    "    z=classifier.predict(np.array([xx1.ravel(), xx2.ravel()]).T)\n",
    "    z=z.reshape(xx1.shape)\n",
    "    plt.contourf(xx1, xx2, z, alpha=0.3, cmap=cmap)\n",
    "    plt.xlim(xx1.min(), xx1.max())\n",
    "    plt.ylim(xx2.min(), xx2.max())\n",
    "    \n",
    "    #plot class samples\n",
    "    plt.scatter(X[(y==0), 0], X[(y==0), 1], marker=\"x\", color=\"m\", \n",
    "                  linewidth=4)\n",
    "    plt.scatter(X[(y==1), 0], X[(y==1), 1], marker=\"o\", color=\"g\", \n",
    "                  linewidth=4)\n"
   ]
  },
  {
   "cell_type": "markdown",
   "metadata": {},
   "source": [
    "#### Data splitting and preprocessing"
   ]
  },
  {
   "cell_type": "code",
   "execution_count": 17,
   "metadata": {},
   "outputs": [],
   "source": [
    "from sklearn.model_selection import train_test_split\n",
    "X_train, X_test, y_train, y_test=train_test_split(X, y, test_size=0.3, \n",
    "                                                  stratify=y) \n",
    "\n",
    "from sklearn.preprocessing import StandardScaler\n",
    "sc_X=StandardScaler()\n",
    "sc_Y=StandardScaler()\n",
    "X_train=sc_X.fit_transform(X_train)\n",
    "\n",
    "X_train_1=X_train[(y_train==0) | (y_train==1)]\n",
    "y_train_1=y_train[(y_train==0) | (y_train==1)]\n"
   ]
  },
  {
   "cell_type": "markdown",
   "metadata": {},
   "source": [
    "#### Modeling and plotting the Data"
   ]
  },
  {
   "cell_type": "code",
   "execution_count": 18,
   "metadata": {},
   "outputs": [
    {
     "name": "stderr",
     "output_type": "stream",
     "text": [
      "C:\\Users\\AMIT\\Anaconda3\\anacondapy\\lib\\site-packages\\ipykernel_launcher.py:23: RuntimeWarning: divide by zero encountered in log\n"
     ]
    },
    {
     "data": {
      "image/png": "[encoded data removed]",
      "text/plain": [
       "<Figure size 432x288 with 1 Axes>"
      ]
     },
     "metadata": {},
     "output_type": "display_data"
    }
   ],
   "source": [
    "lr=LogisticRegression(eta=0.05, n_iter=1000, random_state=1)\n",
    "lr.fit(X_train_1, y_train_1)\n",
    "\n",
    "plot_decision_regions(X_train_1, y_train_1, classifier=lr)\n",
    "plt.xlabel(\"petal length [standardized]\")\n",
    "plt.ylabel(\"petal width [standardized]\")    \n",
    "\n",
    "plt.show()  \n",
    "\n",
    "X_test_std=sc_X.transform(X_test[(y_test==0) | (y_test==1)])\n"
   ]
  },
  {
   "cell_type": "code",
   "execution_count": null,
   "metadata": {},
   "outputs": [],
   "source": []
  }
 ],
 "metadata": {
  "kernelspec": {
   "display_name": "Python 3",
   "language": "python",
   "name": "python3"
  },
  "language_info": {
   "codemirror_mode": {
    "name": "ipython",
    "version": 3
   },
   "file_extension": ".py",
   "mimetype": "text/x-python",
   "name": "python",
   "nbconvert_exporter": "python",
   "pygments_lexer": "ipython3",
   "version": "3.7.3"
  }
 },
 "nbformat": 4,
 "nbformat_minor": 2
}
